{
 "cells": [
  {
   "cell_type": "code",
   "execution_count": 6,
   "id": "6d0b642b",
   "metadata": {
    "tags": [
     "parameters"
    ]
   },
   "outputs": [],
   "source": [
    "# here you can place default parameters which will be overwritten by the \n",
    "# actual parameters in a new cell below\n",
    "spatial_res = 0.00001\n",
    "aoi = \"POLYGON((11.580840855935284 42.450395132068884,13.009063512185284 42.450395132068884,13.009063512185284 41.65093511375355,11.580840855935284 41.65093511375355,11.580840855935284 42.450395132068884))\"\n",
    "time_range= \"2022-02-15/2022-03-14\"\n",
    "\n",
    "x = time_range.split(\"/\")"
   ]
  },
  {
   "cell_type": "code",
   "execution_count": 7,
   "id": "1fb22a8c",
   "metadata": {},
   "outputs": [
    {
     "name": "stdout",
     "output_type": "stream",
     "text": [
      "1.1418069109240037\n"
     ]
    }
   ],
   "source": [
    "# calculate the area based on input parameters\n",
    "import shapely.wkt\n",
    "\n",
    "# aoi is passed as WKT, need bbox\n",
    "polygon = shapely.wkt.loads(aoi)\n",
    "\n",
    "# just use area for price estimate\n",
    "area = float(polygon.area)\n",
    "print(area)"
   ]
  },
  {
   "cell_type": "code",
   "execution_count": 8,
   "id": "bdcb3893-9a86-4fb2-b86c-5929612b3ef5",
   "metadata": {},
   "outputs": [
    {
     "name": "stdout",
     "output_type": "stream",
     "text": [
      "27\n"
     ]
    }
   ],
   "source": [
    "# calculate the number of days based on input parameters\n",
    "from datetime import datetime\n",
    "date_format = \"%Y-%m-%d\"\n",
    "a = datetime.strptime(x[0], date_format)\n",
    "b = datetime.strptime(x[1], date_format)\n",
    "delta = b - a\n",
    "print(delta.days)"
   ]
  },
  {
   "cell_type": "code",
   "execution_count": 9,
   "id": "a02a607a-15c8-455f-aa49-a03876f15b01",
   "metadata": {},
   "outputs": [
    {
     "data": {
      "text/plain": [
       "30.8287865949481"
      ]
     },
     "execution_count": 9,
     "metadata": {},
     "output_type": "execute_result"
    }
   ],
   "source": [
    "#calculate the price in credits\n",
    "price = (delta.days * area)\n",
    "price"
   ]
  },
  {
   "cell_type": "code",
   "execution_count": 5,
   "id": "a1ef2813",
   "metadata": {},
   "outputs": [
    {
     "data": {
      "application/scrapbook.scrap.json+json": {
       "data": 30.8287865949481,
       "encoder": "json",
       "name": "",
       "version": 1
      }
     },
     "metadata": {
      "scrapbook": {
       "data": true,
       "display": false,
       "name": ""
      }
     },
     "output_type": "display_data"
    }
   ],
   "source": [
    "# use this snippet to transmit the price to the platform\n",
    "import scrapbook\n",
    "scrapbook.glue(\"\", price)"
   ]
  },
  {
   "cell_type": "code",
   "execution_count": null,
   "id": "332e6d08-acce-4777-8f61-57bffa1f485b",
   "metadata": {},
   "outputs": [],
   "source": []
  }
 ],
 "metadata": {
  "celltoolbar": "Tags",
  "kernelspec": {
   "display_name": "EDC 2022.02 (Python3)",
   "language": "python",
   "name": "edc"
  },
  "language_info": {
   "codemirror_mode": {
    "name": "ipython",
    "version": 3
   },
   "file_extension": ".py",
   "mimetype": "text/x-python",
   "name": "python",
   "nbconvert_exporter": "python",
   "pygments_lexer": "ipython3",
   "version": "3.8.12"
  }
 },
 "nbformat": 4,
 "nbformat_minor": 5
}
